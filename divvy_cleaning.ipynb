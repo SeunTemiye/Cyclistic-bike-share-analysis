{
 "cells": [
  {
   "cell_type": "code",
   "execution_count": 33,
   "id": "8443d4d8-4f97-469e-976b-d5996511a02e",
   "metadata": {},
   "outputs": [],
   "source": [
    "#Import libraries\n",
    "import pandas as pd\n",
    "import os"
   ]
  },
  {
   "cell_type": "code",
   "execution_count": 51,
   "id": "5f53af53-385b-430a-a9e9-eda3826b7c06",
   "metadata": {},
   "outputs": [],
   "source": [
    "folder_path = \"C:/Users/seunt/Downloads/divvy-tripdata\""
   ]
  },
  {
   "cell_type": "code",
   "execution_count": 39,
   "id": "558c6b67-2dbc-4b97-b936-a3546a0815d8",
   "metadata": {},
   "outputs": [],
   "source": [
    "#Look inside the folder and pick out every csv file\n",
    "all_files= [os.path.join(folder_path,f) for f in os.listdir(folder_path) if f.endswith('.csv')]\n"
   ]
  },
  {
   "cell_type": "code",
   "execution_count": 45,
   "id": "2d878ded-f8a8-4b01-b720-52bb1f23b035",
   "metadata": {},
   "outputs": [],
   "source": [
    "#Read each csv file into a list of dataframe\n",
    "df_list = [pd.read_csv(file) for file in all_files]\n"
   ]
  },
  {
   "cell_type": "code",
   "execution_count": 42,
   "id": "04c39029-3fc1-4fc4-af04-48ec36092326",
   "metadata": {},
   "outputs": [],
   "source": [
    "#Combine all csvs into one DataFrame\n",
    "df = pd.concat(df_list, ignore_index=True)"
   ]
  },
  {
   "cell_type": "code",
   "execution_count": 11,
   "id": "d56ae767-a99e-471c-8120-442eedc40210",
   "metadata": {},
   "outputs": [
    {
     "name": "stdout",
     "output_type": "stream",
     "text": [
      "Combined data shape: (5933712, 13)\n"
     ]
    }
   ],
   "source": [
    "print(f\"Combined data shape: {df.shape}\")\n"
   ]
  },
  {
   "cell_type": "code",
   "execution_count": 12,
   "id": "9d596327-02ba-4713-a5f1-7e881926c1c3",
   "metadata": {},
   "outputs": [
    {
     "data": {
      "text/html": [
       "<div>\n",
       "<style scoped>\n",
       "    .dataframe tbody tr th:only-of-type {\n",
       "        vertical-align: middle;\n",
       "    }\n",
       "\n",
       "    .dataframe tbody tr th {\n",
       "        vertical-align: top;\n",
       "    }\n",
       "\n",
       "    .dataframe thead th {\n",
       "        text-align: right;\n",
       "    }\n",
       "</style>\n",
       "<table border=\"1\" class=\"dataframe\">\n",
       "  <thead>\n",
       "    <tr style=\"text-align: right;\">\n",
       "      <th></th>\n",
       "      <th>ride_id</th>\n",
       "      <th>rideable_type</th>\n",
       "      <th>started_at</th>\n",
       "      <th>ended_at</th>\n",
       "      <th>start_station_name</th>\n",
       "      <th>start_station_id</th>\n",
       "      <th>end_station_name</th>\n",
       "      <th>end_station_id</th>\n",
       "      <th>start_lat</th>\n",
       "      <th>start_lng</th>\n",
       "      <th>end_lat</th>\n",
       "      <th>end_lng</th>\n",
       "      <th>member_casual</th>\n",
       "    </tr>\n",
       "  </thead>\n",
       "  <tbody>\n",
       "    <tr>\n",
       "      <th>0</th>\n",
       "      <td>4EAD8F1AD547356B</td>\n",
       "      <td>electric_bike</td>\n",
       "      <td>2023-11-30 21:50:05</td>\n",
       "      <td>2023-11-30 22:13:27</td>\n",
       "      <td>Millennium Park</td>\n",
       "      <td>13008</td>\n",
       "      <td>Pine Grove Ave &amp; Waveland Ave</td>\n",
       "      <td>TA1307000150</td>\n",
       "      <td>41.881101</td>\n",
       "      <td>-87.624082</td>\n",
       "      <td>41.949473</td>\n",
       "      <td>-87.646453</td>\n",
       "      <td>member</td>\n",
       "    </tr>\n",
       "    <tr>\n",
       "      <th>1</th>\n",
       "      <td>6322270563BF5470</td>\n",
       "      <td>electric_bike</td>\n",
       "      <td>2023-11-03 09:44:02</td>\n",
       "      <td>2023-11-03 10:17:15</td>\n",
       "      <td>Broadway &amp; Sheridan Rd</td>\n",
       "      <td>13323</td>\n",
       "      <td>Broadway &amp; Sheridan Rd</td>\n",
       "      <td>13323</td>\n",
       "      <td>41.952868</td>\n",
       "      <td>-87.650035</td>\n",
       "      <td>41.952833</td>\n",
       "      <td>-87.649993</td>\n",
       "      <td>member</td>\n",
       "    </tr>\n",
       "    <tr>\n",
       "      <th>2</th>\n",
       "      <td>B37BDE091ECA38E0</td>\n",
       "      <td>electric_bike</td>\n",
       "      <td>2023-11-30 11:39:44</td>\n",
       "      <td>2023-11-30 11:40:08</td>\n",
       "      <td>State St &amp; Pearson St</td>\n",
       "      <td>TA1307000061</td>\n",
       "      <td>State St &amp; Pearson St</td>\n",
       "      <td>TA1307000061</td>\n",
       "      <td>41.897533</td>\n",
       "      <td>-87.628694</td>\n",
       "      <td>41.897448</td>\n",
       "      <td>-87.628722</td>\n",
       "      <td>member</td>\n",
       "    </tr>\n",
       "    <tr>\n",
       "      <th>3</th>\n",
       "      <td>CF0CA5DD26E4F90E</td>\n",
       "      <td>classic_bike</td>\n",
       "      <td>2023-11-08 10:01:45</td>\n",
       "      <td>2023-11-08 10:27:05</td>\n",
       "      <td>Theater on the Lake</td>\n",
       "      <td>TA1308000001</td>\n",
       "      <td>Theater on the Lake</td>\n",
       "      <td>TA1308000001</td>\n",
       "      <td>41.926277</td>\n",
       "      <td>-87.630834</td>\n",
       "      <td>41.926277</td>\n",
       "      <td>-87.630834</td>\n",
       "      <td>member</td>\n",
       "    </tr>\n",
       "    <tr>\n",
       "      <th>4</th>\n",
       "      <td>EB8381AA641348DB</td>\n",
       "      <td>classic_bike</td>\n",
       "      <td>2023-11-03 16:20:25</td>\n",
       "      <td>2023-11-03 16:54:25</td>\n",
       "      <td>Theater on the Lake</td>\n",
       "      <td>TA1308000001</td>\n",
       "      <td>Theater on the Lake</td>\n",
       "      <td>TA1308000001</td>\n",
       "      <td>41.926277</td>\n",
       "      <td>-87.630834</td>\n",
       "      <td>41.926277</td>\n",
       "      <td>-87.630834</td>\n",
       "      <td>member</td>\n",
       "    </tr>\n",
       "  </tbody>\n",
       "</table>\n",
       "</div>"
      ],
      "text/plain": [
       "            ride_id  rideable_type           started_at             ended_at  \\\n",
       "0  4EAD8F1AD547356B  electric_bike  2023-11-30 21:50:05  2023-11-30 22:13:27   \n",
       "1  6322270563BF5470  electric_bike  2023-11-03 09:44:02  2023-11-03 10:17:15   \n",
       "2  B37BDE091ECA38E0  electric_bike  2023-11-30 11:39:44  2023-11-30 11:40:08   \n",
       "3  CF0CA5DD26E4F90E   classic_bike  2023-11-08 10:01:45  2023-11-08 10:27:05   \n",
       "4  EB8381AA641348DB   classic_bike  2023-11-03 16:20:25  2023-11-03 16:54:25   \n",
       "\n",
       "       start_station_name start_station_id               end_station_name  \\\n",
       "0         Millennium Park            13008  Pine Grove Ave & Waveland Ave   \n",
       "1  Broadway & Sheridan Rd            13323         Broadway & Sheridan Rd   \n",
       "2   State St & Pearson St     TA1307000061          State St & Pearson St   \n",
       "3     Theater on the Lake     TA1308000001            Theater on the Lake   \n",
       "4     Theater on the Lake     TA1308000001            Theater on the Lake   \n",
       "\n",
       "  end_station_id  start_lat  start_lng    end_lat    end_lng member_casual  \n",
       "0   TA1307000150  41.881101 -87.624082  41.949473 -87.646453        member  \n",
       "1          13323  41.952868 -87.650035  41.952833 -87.649993        member  \n",
       "2   TA1307000061  41.897533 -87.628694  41.897448 -87.628722        member  \n",
       "3   TA1308000001  41.926277 -87.630834  41.926277 -87.630834        member  \n",
       "4   TA1308000001  41.926277 -87.630834  41.926277 -87.630834        member  "
      ]
     },
     "execution_count": 12,
     "metadata": {},
     "output_type": "execute_result"
    }
   ],
   "source": [
    "df.head(5)"
   ]
  },
  {
   "cell_type": "code",
   "execution_count": 13,
   "id": "dbb350e8-b7a8-466d-b788-239712640eaa",
   "metadata": {},
   "outputs": [
    {
     "data": {
      "text/plain": [
       "ride_id                     0\n",
       "rideable_type               0\n",
       "started_at                  0\n",
       "ended_at                    0\n",
       "start_station_name    1079270\n",
       "start_station_id      1079270\n",
       "end_station_name      1112056\n",
       "end_station_id        1112056\n",
       "start_lat                   0\n",
       "start_lng                   0\n",
       "end_lat                  7417\n",
       "end_lng                  7417\n",
       "member_casual               0\n",
       "dtype: int64"
      ]
     },
     "execution_count": 13,
     "metadata": {},
     "output_type": "execute_result"
    }
   ],
   "source": [
    "df.isnull().sum()"
   ]
  },
  {
   "cell_type": "code",
   "execution_count": 53,
   "id": "71c55310-c5ed-4de5-8284-4243ca48f33b",
   "metadata": {},
   "outputs": [],
   "source": [
    "#Convert started and ended column to datetime\n",
    "df['started_at'] = pd.to_datetime(df['started_at'], format='mixed', errors='coerce')\n",
    "df['ended_at'] = pd.to_datetime(df['ended_at'], format='mixed', errors='coerce')"
   ]
  },
  {
   "cell_type": "code",
   "execution_count": 54,
   "id": "20d346a7-11b1-4ab7-a2ff-6652c31e9ffe",
   "metadata": {},
   "outputs": [],
   "source": [
    "#Calculate ride_length\n",
    "df['ride_length'] = df['ended_at'] - df['started_at']"
   ]
  },
  {
   "cell_type": "code",
   "execution_count": 55,
   "id": "3fe97445-3afa-4538-949c-4c2e7bcba48e",
   "metadata": {},
   "outputs": [],
   "source": [
    "#Create day_of_week\n",
    "df['day_of_week'] = df['started_at'].dt.day_name()"
   ]
  },
  {
   "cell_type": "code",
   "execution_count": 31,
   "id": "c404205e-c08f-4aff-b26e-83fc429fd238",
   "metadata": {},
   "outputs": [
    {
     "name": "stdout",
     "output_type": "stream",
     "text": [
      "Cleaned data shape: (4273261, 15)\n"
     ]
    }
   ],
   "source": [
    "from datetime import timedelta #Import 'timedelta' which is used to represent time differences\n",
    "\n",
    "#Filter out rides where ride_length is 0 or negative, removes invalid records where the bike ride \n",
    "#ended before it started or didn't last any measurable time\n",
    "df = df[df['ride_length'] > timedelta(0)]\n",
    "\n",
    "#Drop any rows that still contain missing values\n",
    "df = df.dropna()\n",
    "\n",
    "#Drop duplicate rows\n",
    "df = df.drop_duplicates()\n",
    "\n",
    "#Print final shape of the cleaned dataframe\n",
    "print(f\"Cleaned data shape: {df.shape}\")\n"
   ]
  },
  {
   "cell_type": "code",
   "execution_count": 26,
   "id": "6494b534-7de1-42fe-968f-b515fecb3e87",
   "metadata": {},
   "outputs": [
    {
     "data": {
      "text/plain": [
       "ride_id               0\n",
       "rideable_type         0\n",
       "started_at            0\n",
       "ended_at              0\n",
       "start_station_name    0\n",
       "start_station_id      0\n",
       "end_station_name      0\n",
       "end_station_id        0\n",
       "start_lat             0\n",
       "start_lng             0\n",
       "end_lat               0\n",
       "end_lng               0\n",
       "member_casual         0\n",
       "ride_length           0\n",
       "day_of_week           0\n",
       "dtype: int64"
      ]
     },
     "execution_count": 26,
     "metadata": {},
     "output_type": "execute_result"
    }
   ],
   "source": [
    "df.isnull().sum()"
   ]
  },
  {
   "cell_type": "code",
   "execution_count": 29,
   "id": "e30c9a6d-8291-4eba-a8d2-21ac69b35b0c",
   "metadata": {},
   "outputs": [],
   "source": [
    "df.to_csv(\"cleaned_divvy_data.csv\", index=False)\n"
   ]
  },
  {
   "cell_type": "code",
   "execution_count": null,
   "id": "db584d1a-dc78-4aaa-ba9a-ed9d11146060",
   "metadata": {},
   "outputs": [],
   "source": []
  }
 ],
 "metadata": {
  "kernelspec": {
   "display_name": "Python [conda env:base] *",
   "language": "python",
   "name": "conda-base-py"
  },
  "language_info": {
   "codemirror_mode": {
    "name": "ipython",
    "version": 3
   },
   "file_extension": ".py",
   "mimetype": "text/x-python",
   "name": "python",
   "nbconvert_exporter": "python",
   "pygments_lexer": "ipython3",
   "version": "3.12.7"
  }
 },
 "nbformat": 4,
 "nbformat_minor": 5
}
